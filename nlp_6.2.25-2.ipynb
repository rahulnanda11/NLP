{
 "cells": [
  {
   "cell_type": "code",
   "execution_count": 1,
   "id": "1ced9950",
   "metadata": {},
   "outputs": [],
   "source": [
    "import nltk\n",
    "f = open('tweets1.txt','r')"
   ]
  },
  {
   "cell_type": "code",
   "execution_count": 2,
   "id": "110afad2",
   "metadata": {},
   "outputs": [],
   "source": [
    "text = f.read()\n",
    "text1 = text.split()\n",
    "text2 = nltk.Text(text1)"
   ]
  },
  {
   "cell_type": "code",
   "execution_count": 5,
   "id": "27f0991d",
   "metadata": {},
   "outputs": [
    {
     "name": "stdout",
     "output_type": "stream",
     "text": [
      "Displaying 25 of 131 matches:\n",
      "going to work in vista training, this is boring just came back from supper, no\n",
      "ing, yeah another day of it, and this is so dry and boring so half of us are o\n",
      "haw looking for family Holy holy holy is the lord God almighty Wow she finally\n",
      "gggg line for food, the only question is what to eat? Lunch time, yeah! With c\n",
      " technical difficulties and the crowd is singing for joy Main session is over.\n",
      "crowd is singing for joy Main session is over. Time to find people I am sittin\n",
      "er mine cracked on valentine's. There is no great genius without a drop of mad\n",
      " motorized wheelchair?! So I guess it is back to work. It is raining heavily a\n",
      "r?! So I guess it is back to work. It is raining heavily and I forgot to being\n",
      "r doing a spot of food shopping (Baby is sleeping). nothing! At work BRCS deve\n",
      "oaking in some sun. Running late. SBS is nominated for 7 Logies, including 3 f\n",
      "range weather Making lots of ads. Why is it that when I am early for work ever\n",
      "hen I am early for work everyone else is late? Eati ng a humbolt county Going \n",
      " church... Joined twitter to see what is the twitter buzz is about. Testing my\n",
      "itter to see what is the twitter buzz is about. Testing my GoogleTalk connecti\n",
      "BRATZ, BRAS AND TWEENS, 7:30 tonight. Is there a real danger that kids are bei\n",
      "h everyone today? Seems like everyone is having PMS. Craving a second mocha an\n",
      " a massage. FiDi chair massage clinic is my new get-rich-quick fantasy. large \n",
      " crazy! Too bad it's so inhospitable. is wondering how the hell she's going to\n",
      " word: let your friends know that SBS is twittering. Program updates, uh, spor\n",
      "rk - everyone wearing red today as it is red cross day. Think I will write ema\n",
      "ad of Computer weekly to see if there is any stuff about Ruby on rails Out at \n",
      "n new web gui for kerjodando 0.2 - it is nearly working now On the bus on my w\n",
      "ll up..... Someone once told me there is a poetry to being ill,the bodily awar\n",
      "lymph. The guy behind me on the train is throat singing or something and it's \n"
     ]
    }
   ],
   "source": [
    "text2.concordance(\"is\")"
   ]
  },
  {
   "cell_type": "code",
   "execution_count": 6,
   "id": "cc6865f3",
   "metadata": {},
   "outputs": [],
   "source": [
    "from urllib import request"
   ]
  },
  {
   "cell_type": "code",
   "execution_count": 15,
   "id": "3465293a",
   "metadata": {},
   "outputs": [],
   "source": [
    "url = \"http://www.gutenberg.org/files/2554/2554-0.txt\""
   ]
  },
  {
   "cell_type": "code",
   "execution_count": 16,
   "id": "7cd5cfb6",
   "metadata": {},
   "outputs": [],
   "source": [
    "response = request.urlopen(url)"
   ]
  },
  {
   "cell_type": "code",
   "execution_count": 17,
   "id": "9d778bda",
   "metadata": {},
   "outputs": [],
   "source": [
    "raw = response.read().decode('utf8')"
   ]
  },
  {
   "cell_type": "code",
   "execution_count": 18,
   "id": "70d76ca1",
   "metadata": {},
   "outputs": [
    {
     "data": {
      "text/plain": [
       "str"
      ]
     },
     "execution_count": 18,
     "metadata": {},
     "output_type": "execute_result"
    }
   ],
   "source": [
    "type(raw)"
   ]
  },
  {
   "cell_type": "code",
   "execution_count": 19,
   "id": "c4c63ad8",
   "metadata": {},
   "outputs": [
    {
     "data": {
      "text/plain": [
       "'*** START OF THE PROJECT GUTENBERG EBOOK 2554 ***\\n\\n\\n\\n\\nCRIME AND PUNISHMENT\\n'"
      ]
     },
     "execution_count": 19,
     "metadata": {},
     "output_type": "execute_result"
    }
   ],
   "source": [
    "raw[:75]"
   ]
  },
  {
   "cell_type": "code",
   "execution_count": 20,
   "id": "7d136fa2",
   "metadata": {},
   "outputs": [],
   "source": [
    "from nltk.tokenize import word_tokenize\n",
    "tokens = word_tokenize(raw)"
   ]
  },
  {
   "cell_type": "code",
   "execution_count": 21,
   "id": "f7a24c32",
   "metadata": {},
   "outputs": [
    {
     "data": {
      "text/plain": [
       "list"
      ]
     },
     "execution_count": 21,
     "metadata": {},
     "output_type": "execute_result"
    }
   ],
   "source": [
    "type(tokens)"
   ]
  },
  {
   "cell_type": "code",
   "execution_count": 22,
   "id": "d8988f2f",
   "metadata": {},
   "outputs": [
    {
     "data": {
      "text/plain": [
       "253688"
      ]
     },
     "execution_count": 22,
     "metadata": {},
     "output_type": "execute_result"
    }
   ],
   "source": [
    "len(tokens)"
   ]
  },
  {
   "cell_type": "code",
   "execution_count": null,
   "id": "d3f61ba5",
   "metadata": {},
   "outputs": [],
   "source": []
  }
 ],
 "metadata": {
  "kernelspec": {
   "display_name": "Python 3 (ipykernel)",
   "language": "python",
   "name": "python3"
  },
  "language_info": {
   "codemirror_mode": {
    "name": "ipython",
    "version": 3
   },
   "file_extension": ".py",
   "mimetype": "text/x-python",
   "name": "python",
   "nbconvert_exporter": "python",
   "pygments_lexer": "ipython3",
   "version": "3.10.9"
  }
 },
 "nbformat": 4,
 "nbformat_minor": 5
}
